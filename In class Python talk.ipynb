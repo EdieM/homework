{
 "metadata": {
  "name": "",
  "signature": "sha256:d54b8e0ae1a56a057043ee2930f81c877fdb786fad5ae8f4dc1efd376b891af6"
 },
 "nbformat": 3,
 "nbformat_minor": 0,
 "worksheets": [
  {
   "cells": [
    {
     "cell_type": "code",
     "collapsed": false,
     "input": [
      "#random seed means it will gave you the same \"random numbers\" each time, so that your answers don't change each time"
     ],
     "language": "python",
     "metadata": {},
     "outputs": [],
     "prompt_number": 1
    },
    {
     "cell_type": "code",
     "collapsed": false,
     "input": [],
     "language": "python",
     "metadata": {},
     "outputs": []
    }
   ],
   "metadata": {}
  }
 ]
}