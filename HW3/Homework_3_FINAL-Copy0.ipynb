{
 "metadata": {
  "name": "",
  "signature": "sha256:2d354c72f6d94b32e7f423e0bffe65f94f4642496609751da8573cdc20012c32"
 },
 "nbformat": 3,
 "nbformat_minor": 0,
 "worksheets": [
  {
   "cells": [
    {
     "cell_type": "heading",
     "level": 2,
     "metadata": {},
     "source": [
      "Senalka McDonald"
     ]
    },
    {
     "cell_type": "raw",
     "metadata": {},
     "source": [
      "For this assignment we will use the Bank Marketing dataset. \n",
      "\n",
      "The dataset(s) that you need for this exercise are included in the github repo with this assignment:\n",
      "\n",
      "\u2022 bank.csv: This file is a 10% sample of the total dataset and includes 17 features\n",
      "\u2022 bank-additional-full.csv: This file includes the full 41,188 prospect records and includes 20 features\n",
      "\n",
      "The original source of the dataset is the UCI Machine Learning Repository: https://archive.ics.uci.edu/ml/datasets/Bank+Marketing\n",
      "\n",
      "This data is from direct marketing campaigns of a Portuguese banking institution. The goal of this direct marketing campaign was to sell bank term deposits (CDs, or certificates of deposit in the US). Often, the prospective client was contacted multiple times. If the prospect purchased the product, then that prospect was labeled \u201cyes\u201d. If the prospect did not purchase the product, the that prospect was labeled \u201cno\u201d.\n",
      "\n",
      "The classification goal is to predict if the client will purchase (yes/no) a bank term deposit. In the dataset(s), the class label column header is simply \u201cy\u201d."
     ]
    },
    {
     "cell_type": "code",
     "collapsed": false,
     "input": [
      "# %matplotlib inline <--that gets you charts in line, in notebook\n",
      "import pandas as pd\n",
      "import numpy as np"
     ],
     "language": "python",
     "metadata": {},
     "outputs": [],
     "prompt_number": 28
    },
    {
     "cell_type": "code",
     "collapsed": false,
     "input": [
      "# this data was originally all in one really wide column. \n",
      "# bank = pd.read_csv(\"bank.csv\")  <---look at it not separated into columns\n",
      "\n",
      "#below is how to separate data that comes like that\n",
      "\n",
      "# data is pandas. any functions related to data is being done in pandas\n",
      "bank = pd.read_csv(\"bank.csv\",sep =';')\n",
      "bank.head(5)"
     ],
     "language": "python",
     "metadata": {},
     "outputs": [
      {
       "html": [
        "<div style=\"max-height:1000px;max-width:1500px;overflow:auto;\">\n",
        "<table border=\"1\" class=\"dataframe\">\n",
        "  <thead>\n",
        "    <tr style=\"text-align: right;\">\n",
        "      <th></th>\n",
        "      <th>age</th>\n",
        "      <th>job</th>\n",
        "      <th>marital</th>\n",
        "      <th>education</th>\n",
        "      <th>default</th>\n",
        "      <th>balance</th>\n",
        "      <th>housing</th>\n",
        "      <th>loan</th>\n",
        "      <th>contact</th>\n",
        "      <th>day</th>\n",
        "      <th>month</th>\n",
        "      <th>duration</th>\n",
        "      <th>campaign</th>\n",
        "      <th>pdays</th>\n",
        "      <th>previous</th>\n",
        "      <th>poutcome</th>\n",
        "      <th>y</th>\n",
        "    </tr>\n",
        "  </thead>\n",
        "  <tbody>\n",
        "    <tr>\n",
        "      <th>0</th>\n",
        "      <td> 30</td>\n",
        "      <td>  unemployed</td>\n",
        "      <td> married</td>\n",
        "      <td>   primary</td>\n",
        "      <td> no</td>\n",
        "      <td> 1787</td>\n",
        "      <td>  no</td>\n",
        "      <td>  no</td>\n",
        "      <td> cellular</td>\n",
        "      <td> 19</td>\n",
        "      <td> oct</td>\n",
        "      <td>  79</td>\n",
        "      <td> 1</td>\n",
        "      <td>  -1</td>\n",
        "      <td> 0</td>\n",
        "      <td> unknown</td>\n",
        "      <td> no</td>\n",
        "    </tr>\n",
        "    <tr>\n",
        "      <th>1</th>\n",
        "      <td> 33</td>\n",
        "      <td>    services</td>\n",
        "      <td> married</td>\n",
        "      <td> secondary</td>\n",
        "      <td> no</td>\n",
        "      <td> 4789</td>\n",
        "      <td> yes</td>\n",
        "      <td> yes</td>\n",
        "      <td> cellular</td>\n",
        "      <td> 11</td>\n",
        "      <td> may</td>\n",
        "      <td> 220</td>\n",
        "      <td> 1</td>\n",
        "      <td> 339</td>\n",
        "      <td> 4</td>\n",
        "      <td> failure</td>\n",
        "      <td> no</td>\n",
        "    </tr>\n",
        "    <tr>\n",
        "      <th>2</th>\n",
        "      <td> 35</td>\n",
        "      <td>  management</td>\n",
        "      <td>  single</td>\n",
        "      <td>  tertiary</td>\n",
        "      <td> no</td>\n",
        "      <td> 1350</td>\n",
        "      <td> yes</td>\n",
        "      <td>  no</td>\n",
        "      <td> cellular</td>\n",
        "      <td> 16</td>\n",
        "      <td> apr</td>\n",
        "      <td> 185</td>\n",
        "      <td> 1</td>\n",
        "      <td> 330</td>\n",
        "      <td> 1</td>\n",
        "      <td> failure</td>\n",
        "      <td> no</td>\n",
        "    </tr>\n",
        "    <tr>\n",
        "      <th>3</th>\n",
        "      <td> 30</td>\n",
        "      <td>  management</td>\n",
        "      <td> married</td>\n",
        "      <td>  tertiary</td>\n",
        "      <td> no</td>\n",
        "      <td> 1476</td>\n",
        "      <td> yes</td>\n",
        "      <td> yes</td>\n",
        "      <td>  unknown</td>\n",
        "      <td>  3</td>\n",
        "      <td> jun</td>\n",
        "      <td> 199</td>\n",
        "      <td> 4</td>\n",
        "      <td>  -1</td>\n",
        "      <td> 0</td>\n",
        "      <td> unknown</td>\n",
        "      <td> no</td>\n",
        "    </tr>\n",
        "    <tr>\n",
        "      <th>4</th>\n",
        "      <td> 59</td>\n",
        "      <td> blue-collar</td>\n",
        "      <td> married</td>\n",
        "      <td> secondary</td>\n",
        "      <td> no</td>\n",
        "      <td>    0</td>\n",
        "      <td> yes</td>\n",
        "      <td>  no</td>\n",
        "      <td>  unknown</td>\n",
        "      <td>  5</td>\n",
        "      <td> may</td>\n",
        "      <td> 226</td>\n",
        "      <td> 1</td>\n",
        "      <td>  -1</td>\n",
        "      <td> 0</td>\n",
        "      <td> unknown</td>\n",
        "      <td> no</td>\n",
        "    </tr>\n",
        "  </tbody>\n",
        "</table>\n",
        "</div>"
       ],
       "metadata": {},
       "output_type": "pyout",
       "prompt_number": 32,
       "text": [
        "   age          job  marital  education default  balance housing loan  \\\n",
        "0   30   unemployed  married    primary      no     1787      no   no   \n",
        "1   33     services  married  secondary      no     4789     yes  yes   \n",
        "2   35   management   single   tertiary      no     1350     yes   no   \n",
        "3   30   management  married   tertiary      no     1476     yes  yes   \n",
        "4   59  blue-collar  married  secondary      no        0     yes   no   \n",
        "\n",
        "    contact  day month  duration  campaign  pdays  previous poutcome   y  \n",
        "0  cellular   19   oct        79         1     -1         0  unknown  no  \n",
        "1  cellular   11   may       220         1    339         4  failure  no  \n",
        "2  cellular   16   apr       185         1    330         1  failure  no  \n",
        "3   unknown    3   jun       199         4     -1         0  unknown  no  \n",
        "4   unknown    5   may       226         1     -1         0  unknown  no  "
       ]
      }
     ],
     "prompt_number": 32
    },
    {
     "cell_type": "heading",
     "level": 3,
     "metadata": {},
     "source": [
      "\n",
      "1. Use the file bank.csv to explore the dataset. Observe the features: Are they numbers? Are they strings? Are they binary? Are they continuous?"
     ]
    },
    {
     "cell_type": "raw",
     "metadata": {},
     "source": [
      "looks like some columns are binary, while others are not.\n",
      "\n",
      "Binary columns (or columns that can be 0,1)\n",
      "Default\n",
      "Housing\n",
      "Loan\n",
      "poutcome\n",
      "y\n",
      "\n",
      "Continuous columns\n",
      "age\n",
      "balance\n",
      "day\n",
      "month\n",
      "duration\n",
      "pdays"
     ]
    },
    {
     "cell_type": "code",
     "collapsed": false,
     "input": [
      "bank.dtypes"
     ],
     "language": "python",
     "metadata": {},
     "outputs": [
      {
       "metadata": {},
       "output_type": "pyout",
       "prompt_number": 30,
       "text": [
        "age           int64\n",
        "job          object\n",
        "marital      object\n",
        "education    object\n",
        "default      object\n",
        "balance       int64\n",
        "housing      object\n",
        "loan         object\n",
        "contact      object\n",
        "day           int64\n",
        "month        object\n",
        "duration      int64\n",
        "campaign      int64\n",
        "pdays         int64\n",
        "previous      int64\n",
        "poutcome     object\n",
        "y            object\n",
        "dtype: object"
       ]
      }
     ],
     "prompt_number": 30
    },
    {
     "cell_type": "heading",
     "level": 3,
     "metadata": {},
     "source": [
      "2. Learn about label encoders at the following link and use what you learn to transform the features to numerical features."
     ]
    },
    {
     "cell_type": "code",
     "collapsed": false,
     "input": [
      "from sklearn.preprocessing import OneHotEncoder\n",
      "bank.rename(columns={'y': 'purchased'}, inplace=True)\n"
     ],
     "language": "python",
     "metadata": {},
     "outputs": [],
     "prompt_number": 62
    },
    {
     "cell_type": "code",
     "collapsed": false,
     "input": [
      "# Changing the 'y' target column to 'purchased'. less confusing that way\n",
      "feature_cols = bank.columns[:16]\n",
      "feature_cols"
     ],
     "language": "python",
     "metadata": {},
     "outputs": [
      {
       "metadata": {},
       "output_type": "pyout",
       "prompt_number": 63,
       "text": [
        "Index([u'age', u'job', u'marital', u'education', u'default', u'balance', u'housing', u'loan', u'contact', u'day', u'month', u'duration', u'campaign', u'pdays', u'previous', u'poutcome'], dtype='object')"
       ]
      }
     ],
     "prompt_number": 63
    },
    {
     "cell_type": "code",
     "collapsed": false,
     "input": [
      "# encode sex feature\n",
      "bank['sex'] = titanic.sex.map({'female':0, 'male':1})\n",
      "\n",
      "# fill in missing values for age\n",
      "titanic.age.fillna(titanic.age.mean(), inplace=True)\n",
      "\n",
      "# print the updated DataFrame\n",
      "titanic.head(10)"
     ],
     "language": "python",
     "metadata": {},
     "outputs": [
      {
       "metadata": {},
       "output_type": "pyout",
       "prompt_number": 52,
       "text": [
        "array([ 0,  1,  2,  3,  4,  5,  6,  7,  8,  9, 10, 11, 12, 13, 14, 15, 16])"
       ]
      }
     ],
     "prompt_number": 52
    },
    {
     "cell_type": "code",
     "collapsed": false,
     "input": [
      "enc = OneHotEncoder()\n",
      "enc.fit([['age', 'job', 'marital', 'education', \n",
      "         'default', 'balance', 'housing', 'loan', 'contact', \n",
      "         'day', 'month', 'duration', 'campaign', 'pdays', 'previous', 'poutcome']])\n"
     ],
     "language": "python",
     "metadata": {},
     "outputs": [
      {
       "ename": "ValueError",
       "evalue": "invalid literal for long() with base 10: 'age'",
       "output_type": "pyerr",
       "traceback": [
        "\u001b[0;31m---------------------------------------------------------------------------\u001b[0m\n\u001b[0;31mValueError\u001b[0m                                Traceback (most recent call last)",
        "\u001b[0;32m<ipython-input-61-df81cc3f00ce>\u001b[0m in \u001b[0;36m<module>\u001b[0;34m()\u001b[0m\n\u001b[1;32m      2\u001b[0m enc.fit([['age', 'job', 'marital', 'education', \n\u001b[1;32m      3\u001b[0m          \u001b[0;34m'default'\u001b[0m\u001b[0;34m,\u001b[0m \u001b[0;34m'balance'\u001b[0m\u001b[0;34m,\u001b[0m \u001b[0;34m'housing'\u001b[0m\u001b[0;34m,\u001b[0m \u001b[0;34m'loan'\u001b[0m\u001b[0;34m,\u001b[0m \u001b[0;34m'contact'\u001b[0m\u001b[0;34m,\u001b[0m\u001b[0;34m\u001b[0m\u001b[0m\n\u001b[0;32m----> 4\u001b[0;31m          'day', 'month', 'duration', 'campaign', 'pdays', 'previous', 'poutcome']])\n\u001b[0m",
        "\u001b[0;32m/Users/EdieM/anaconda/lib/python2.7/site-packages/sklearn/preprocessing/data.pyc\u001b[0m in \u001b[0;36mfit\u001b[0;34m(self, X, y)\u001b[0m\n\u001b[1;32m    996\u001b[0m         \u001b[0mself\u001b[0m\u001b[0;34m\u001b[0m\u001b[0m\n\u001b[1;32m    997\u001b[0m         \"\"\"\n\u001b[0;32m--> 998\u001b[0;31m         \u001b[0mself\u001b[0m\u001b[0;34m.\u001b[0m\u001b[0mfit_transform\u001b[0m\u001b[0;34m(\u001b[0m\u001b[0mX\u001b[0m\u001b[0;34m)\u001b[0m\u001b[0;34m\u001b[0m\u001b[0m\n\u001b[0m\u001b[1;32m    999\u001b[0m         \u001b[0;32mreturn\u001b[0m \u001b[0mself\u001b[0m\u001b[0;34m\u001b[0m\u001b[0m\n\u001b[1;32m   1000\u001b[0m \u001b[0;34m\u001b[0m\u001b[0m\n",
        "\u001b[0;32m/Users/EdieM/anaconda/lib/python2.7/site-packages/sklearn/preprocessing/data.pyc\u001b[0m in \u001b[0;36mfit_transform\u001b[0;34m(self, X, y)\u001b[0m\n\u001b[1;32m   1052\u001b[0m         \"\"\"\n\u001b[1;32m   1053\u001b[0m         return _transform_selected(X, self._fit_transform,\n\u001b[0;32m-> 1054\u001b[0;31m                                    self.categorical_features, copy=True)\n\u001b[0m\u001b[1;32m   1055\u001b[0m \u001b[0;34m\u001b[0m\u001b[0m\n\u001b[1;32m   1056\u001b[0m     \u001b[0;32mdef\u001b[0m \u001b[0m_transform\u001b[0m\u001b[0;34m(\u001b[0m\u001b[0mself\u001b[0m\u001b[0;34m,\u001b[0m \u001b[0mX\u001b[0m\u001b[0;34m)\u001b[0m\u001b[0;34m:\u001b[0m\u001b[0;34m\u001b[0m\u001b[0m\n",
        "\u001b[0;32m/Users/EdieM/anaconda/lib/python2.7/site-packages/sklearn/preprocessing/data.pyc\u001b[0m in \u001b[0;36m_transform_selected\u001b[0;34m(X, transform, selected, copy)\u001b[0m\n\u001b[1;32m    870\u001b[0m     \"\"\"\n\u001b[1;32m    871\u001b[0m     \u001b[0;32mif\u001b[0m \u001b[0mselected\u001b[0m \u001b[0;34m==\u001b[0m \u001b[0;34m\"all\"\u001b[0m\u001b[0;34m:\u001b[0m\u001b[0;34m\u001b[0m\u001b[0m\n\u001b[0;32m--> 872\u001b[0;31m         \u001b[0;32mreturn\u001b[0m \u001b[0mtransform\u001b[0m\u001b[0;34m(\u001b[0m\u001b[0mX\u001b[0m\u001b[0;34m)\u001b[0m\u001b[0;34m\u001b[0m\u001b[0m\n\u001b[0m\u001b[1;32m    873\u001b[0m \u001b[0;34m\u001b[0m\u001b[0m\n\u001b[1;32m    874\u001b[0m     \u001b[0mX\u001b[0m \u001b[0;34m=\u001b[0m \u001b[0matleast2d_or_csc\u001b[0m\u001b[0;34m(\u001b[0m\u001b[0mX\u001b[0m\u001b[0;34m,\u001b[0m \u001b[0mcopy\u001b[0m\u001b[0;34m=\u001b[0m\u001b[0mcopy\u001b[0m\u001b[0;34m)\u001b[0m\u001b[0;34m\u001b[0m\u001b[0m\n",
        "\u001b[0;32m/Users/EdieM/anaconda/lib/python2.7/site-packages/sklearn/preprocessing/data.pyc\u001b[0m in \u001b[0;36m_fit_transform\u001b[0;34m(self, X)\u001b[0m\n\u001b[1;32m   1001\u001b[0m     \u001b[0;32mdef\u001b[0m \u001b[0m_fit_transform\u001b[0m\u001b[0;34m(\u001b[0m\u001b[0mself\u001b[0m\u001b[0;34m,\u001b[0m \u001b[0mX\u001b[0m\u001b[0;34m)\u001b[0m\u001b[0;34m:\u001b[0m\u001b[0;34m\u001b[0m\u001b[0m\n\u001b[1;32m   1002\u001b[0m         \u001b[0;34m\"\"\"Assumes X contains only categorical features.\"\"\"\u001b[0m\u001b[0;34m\u001b[0m\u001b[0m\n\u001b[0;32m-> 1003\u001b[0;31m         \u001b[0mX\u001b[0m \u001b[0;34m=\u001b[0m \u001b[0mcheck_arrays\u001b[0m\u001b[0;34m(\u001b[0m\u001b[0mX\u001b[0m\u001b[0;34m,\u001b[0m \u001b[0msparse_format\u001b[0m\u001b[0;34m=\u001b[0m\u001b[0;34m'dense'\u001b[0m\u001b[0;34m,\u001b[0m \u001b[0mdtype\u001b[0m\u001b[0;34m=\u001b[0m\u001b[0mnp\u001b[0m\u001b[0;34m.\u001b[0m\u001b[0mint\u001b[0m\u001b[0;34m)\u001b[0m\u001b[0;34m[\u001b[0m\u001b[0;36m0\u001b[0m\u001b[0;34m]\u001b[0m\u001b[0;34m\u001b[0m\u001b[0m\n\u001b[0m\u001b[1;32m   1004\u001b[0m         \u001b[0;32mif\u001b[0m \u001b[0mnp\u001b[0m\u001b[0;34m.\u001b[0m\u001b[0many\u001b[0m\u001b[0;34m(\u001b[0m\u001b[0mX\u001b[0m \u001b[0;34m<\u001b[0m \u001b[0;36m0\u001b[0m\u001b[0;34m)\u001b[0m\u001b[0;34m:\u001b[0m\u001b[0;34m\u001b[0m\u001b[0m\n\u001b[1;32m   1005\u001b[0m             \u001b[0;32mraise\u001b[0m \u001b[0mValueError\u001b[0m\u001b[0;34m(\u001b[0m\u001b[0;34m\"X needs to contain only non-negative integers.\"\u001b[0m\u001b[0;34m)\u001b[0m\u001b[0;34m\u001b[0m\u001b[0m\n",
        "\u001b[0;32m/Users/EdieM/anaconda/lib/python2.7/site-packages/sklearn/utils/validation.pyc\u001b[0m in \u001b[0;36mcheck_arrays\u001b[0;34m(*arrays, **options)\u001b[0m\n\u001b[1;32m    279\u001b[0m                     \u001b[0marray\u001b[0m \u001b[0;34m=\u001b[0m \u001b[0mnp\u001b[0m\u001b[0;34m.\u001b[0m\u001b[0mascontiguousarray\u001b[0m\u001b[0;34m(\u001b[0m\u001b[0marray\u001b[0m\u001b[0;34m,\u001b[0m \u001b[0mdtype\u001b[0m\u001b[0;34m=\u001b[0m\u001b[0mdtype\u001b[0m\u001b[0;34m)\u001b[0m\u001b[0;34m\u001b[0m\u001b[0m\n\u001b[1;32m    280\u001b[0m                 \u001b[0;32melse\u001b[0m\u001b[0;34m:\u001b[0m\u001b[0;34m\u001b[0m\u001b[0m\n\u001b[0;32m--> 281\u001b[0;31m                     \u001b[0marray\u001b[0m \u001b[0;34m=\u001b[0m \u001b[0mnp\u001b[0m\u001b[0;34m.\u001b[0m\u001b[0masarray\u001b[0m\u001b[0;34m(\u001b[0m\u001b[0marray\u001b[0m\u001b[0;34m,\u001b[0m \u001b[0mdtype\u001b[0m\u001b[0;34m=\u001b[0m\u001b[0mdtype\u001b[0m\u001b[0;34m)\u001b[0m\u001b[0;34m\u001b[0m\u001b[0m\n\u001b[0m\u001b[1;32m    282\u001b[0m                 \u001b[0;32mif\u001b[0m \u001b[0;32mnot\u001b[0m \u001b[0mallow_nans\u001b[0m\u001b[0;34m:\u001b[0m\u001b[0;34m\u001b[0m\u001b[0m\n\u001b[1;32m    283\u001b[0m                     \u001b[0m_assert_all_finite\u001b[0m\u001b[0;34m(\u001b[0m\u001b[0marray\u001b[0m\u001b[0;34m)\u001b[0m\u001b[0;34m\u001b[0m\u001b[0m\n",
        "\u001b[0;32m/Users/EdieM/anaconda/lib/python2.7/site-packages/numpy/core/numeric.pyc\u001b[0m in \u001b[0;36masarray\u001b[0;34m(a, dtype, order)\u001b[0m\n\u001b[1;32m    460\u001b[0m \u001b[0;34m\u001b[0m\u001b[0m\n\u001b[1;32m    461\u001b[0m     \"\"\"\n\u001b[0;32m--> 462\u001b[0;31m     \u001b[0;32mreturn\u001b[0m \u001b[0marray\u001b[0m\u001b[0;34m(\u001b[0m\u001b[0ma\u001b[0m\u001b[0;34m,\u001b[0m \u001b[0mdtype\u001b[0m\u001b[0;34m,\u001b[0m \u001b[0mcopy\u001b[0m\u001b[0;34m=\u001b[0m\u001b[0mFalse\u001b[0m\u001b[0;34m,\u001b[0m \u001b[0morder\u001b[0m\u001b[0;34m=\u001b[0m\u001b[0morder\u001b[0m\u001b[0;34m)\u001b[0m\u001b[0;34m\u001b[0m\u001b[0m\n\u001b[0m\u001b[1;32m    463\u001b[0m \u001b[0;34m\u001b[0m\u001b[0m\n\u001b[1;32m    464\u001b[0m \u001b[0;32mdef\u001b[0m \u001b[0masanyarray\u001b[0m\u001b[0;34m(\u001b[0m\u001b[0ma\u001b[0m\u001b[0;34m,\u001b[0m \u001b[0mdtype\u001b[0m\u001b[0;34m=\u001b[0m\u001b[0mNone\u001b[0m\u001b[0;34m,\u001b[0m \u001b[0morder\u001b[0m\u001b[0;34m=\u001b[0m\u001b[0mNone\u001b[0m\u001b[0;34m)\u001b[0m\u001b[0;34m:\u001b[0m\u001b[0;34m\u001b[0m\u001b[0m\n",
        "\u001b[0;31mValueError\u001b[0m: invalid literal for long() with base 10: 'age'"
       ]
      }
     ],
     "prompt_number": 61
    },
    {
     "cell_type": "code",
     "collapsed": false,
     "input": [
      "# This is giving each unique value within each class a int label. \n",
      "# Then I wanted to look at each of the values and get further info\n",
      "\n",
      "print 'This is \\'job\\' information.'\n",
      "le.fit(bank['job'].unique())\n",
      "print bank['job'].describe()\n",
      "job_b = le.classes_\n",
      "print job_b\n",
      "le.transform(le.classes_)\n",
      "job_a = le.transform(le.classes_)\n",
      "bank['job'] = bank['job'].replace(to_replace = job_b, value = job_a)\n",
      "print '_' * 80"
     ],
     "language": "python",
     "metadata": {},
     "outputs": [
      {
       "output_type": "stream",
       "stream": "stdout",
       "text": [
        "This is 'job' information.\n",
        "count           4521\n",
        "unique            12\n",
        "top       management\n",
        "freq             969\n",
        "dtype: object\n",
        "['admin.' 'blue-collar' 'entrepreneur' 'housemaid' 'management' 'retired'\n",
        " 'self-employed' 'services' 'student' 'technician' 'unemployed' 'unknown']\n",
        "________________________________________________________________________________\n"
       ]
      }
     ],
     "prompt_number": 64
    },
    {
     "cell_type": "code",
     "collapsed": false,
     "input": [
      "print 'This is \\'purchased\\' information.'\n",
      "le.fit(bank['purchased'].unique())\n",
      "print bank['purchased'].describe()\n",
      "purchased_b = le.classes_\n",
      "print purchased_b\n",
      "purchased_a = le.transform(le.classes_)\n",
      "purchased_a\n",
      "bank['purchased'] = bank['purchased'].replace(to_replace = purchased_b, value = purchased_a)\n",
      "print '_' * 80"
     ],
     "language": "python",
     "metadata": {},
     "outputs": [
      {
       "output_type": "stream",
       "stream": "stdout",
       "text": [
        "This is 'purchased' information.\n",
        "count     4521\n",
        "unique       2\n",
        "top         no\n",
        "freq      4000\n",
        "dtype: object\n",
        "['no' 'yes']\n",
        "________________________________________________________________________________\n"
       ]
      }
     ],
     "prompt_number": 65
    },
    {
     "cell_type": "code",
     "collapsed": false,
     "input": [
      "print 'This is \\'poutcome\\' information.'\n",
      "le.fit(bank['poutcome'].unique())\n",
      "print bank['poutcome'].describe()\n",
      "poutcome_b = le.classes_\n",
      "print poutcome_b\n",
      "poutcome_a = le.transform(le.classes_)\n",
      "print poutcome_a\n",
      "bank['poutcome'] = bank['poutcome'].replace(to_replace = poutcome_b, value = poutcome_a)\n",
      "print '_' * 80"
     ],
     "language": "python",
     "metadata": {},
     "outputs": []
    },
    {
     "cell_type": "code",
     "collapsed": false,
     "input": [
      "print 'This is \\'previous\\' information.'\n",
      "le.fit(bank['previous'].unique())\n",
      "print bank['previous'].describe()\n",
      "previous_b = le.classes_\n",
      "print previous_b\n",
      "previous_a = le.transform(le.classes_)\n",
      "print previous_a\n",
      "bank['previous'] = bank['previous'].replace(to_replace = previous_b, value = previous_a)\n",
      "print '_' * 80"
     ],
     "language": "python",
     "metadata": {},
     "outputs": []
    },
    {
     "cell_type": "code",
     "collapsed": false,
     "input": [
      "print 'This is \\'campaign\\' information.'\n",
      "le.fit(bank['campaign'].unique())\n",
      "print bank['campaign'].describe()\n",
      "campaign_b = le.classes_\n",
      "print campaign_b\n",
      "campaign_a = le.transform(le.classes_)\n",
      "print campaign_a\n",
      "bank['campaign'] = bank['campaign'].replace(to_replace = campaign_b, value = campaign_a)\n",
      "print '_' * 80"
     ],
     "language": "python",
     "metadata": {},
     "outputs": []
    },
    {
     "cell_type": "code",
     "collapsed": false,
     "input": [
      "print 'This is \\'month\\' information.'\n",
      "le.fit(bank['month'].unique())\n",
      "print bank['month'].describe()\n",
      "month_b = le.classes_\n",
      "print month_b\n",
      "month_a = le.transform(le.classes_)\n",
      "print month_a\n",
      "bank['month'] = bank['month'].replace(to_replace = month_b, value = month_a)\n",
      "print '_' * 80"
     ],
     "language": "python",
     "metadata": {},
     "outputs": []
    },
    {
     "cell_type": "code",
     "collapsed": false,
     "input": [
      "print 'This is \\'day\\' information.'\n",
      "le.fit(bank['day'].unique())\n",
      "print bank['day'].describe()\n",
      "print le.classes_\n",
      "print '_' * 80"
     ],
     "language": "python",
     "metadata": {},
     "outputs": []
    },
    {
     "cell_type": "code",
     "collapsed": false,
     "input": [
      "print 'This is \\'loan\\' information.'\n",
      "le.fit(bank['loan'].unique())\n",
      "print bank['loan'].describe()\n",
      "loan_b = le.classes_\n",
      "print loan_b\n",
      "loan_a = le.transform(le.classes_)\n",
      "print le.transform(le.classes_)\n",
      "bank['loan'] = bank['loan'].replace(to_replace = loan_b, value =loan_a)\n",
      "print '_' * 80"
     ],
     "language": "python",
     "metadata": {},
     "outputs": []
    },
    {
     "cell_type": "code",
     "collapsed": false,
     "input": [
      "print 'This is \\'housing\\' information.'\n",
      "le.fit(bank['housing'].unique())\n",
      "print bank['housing'].describe()\n",
      "housing_b = le.classes_\n",
      "print housing_b\n",
      "housing_a = le.transform(le.classes_)\n",
      "print housing_a\n",
      "bank['housing'] = bank['housing'].replace(to_replace = housing_b, value =housing_a)\n",
      "print '_' * 80"
     ],
     "language": "python",
     "metadata": {},
     "outputs": []
    },
    {
     "cell_type": "code",
     "collapsed": false,
     "input": [
      "print 'This is \\'default\\' information.'\n",
      "le.fit(bank['default'].unique())\n",
      "print bank['default'].describe()\n",
      "default_b = le.classes_\n",
      "print default_b\n",
      "default_a = le.transform(le.classes_)\n",
      "print default_a\n",
      "bank['default'] = bank['default'].replace(to_replace = default_b, value = default_a)\n",
      "print '_' * 80"
     ],
     "language": "python",
     "metadata": {},
     "outputs": []
    },
    {
     "cell_type": "code",
     "collapsed": false,
     "input": [
      "print 'This is \\'education\\' information.'\n",
      "le.fit(bank['education'].unique())\n",
      "print bank['education'].describe()\n",
      "education_b = le.classes_\n",
      "print education_b\n",
      "education_a = le.transform(le.classes_)\n",
      "print education_a\n",
      "bank['education'] = bank['education'].replace(to_replace = education_b, value = education_a)\n",
      "print '_' * 80"
     ],
     "language": "python",
     "metadata": {},
     "outputs": []
    },
    {
     "cell_type": "code",
     "collapsed": false,
     "input": [
      "print 'This is \\'marital\\' information.'\n",
      "le.fit(bank['marital'].unique())\n",
      "print bank['marital'].describe()\n",
      "marital_b = le.classes_\n",
      "print marital_b\n",
      "marital_a = le.transform(le.classes_)\n",
      "print marital_a\n",
      "bank['marital'] = bank['marital'].replace(to_replace = marital_b, value = marital_a)\n",
      "print '_' * 80"
     ],
     "language": "python",
     "metadata": {},
     "outputs": []
    },
    {
     "cell_type": "code",
     "collapsed": false,
     "input": [
      "print 'This is \\'contact\\' information.'\n",
      "le.fit(bank['contact'].unique())\n",
      "print bank['contact'].describe()\n",
      "contact_b = le.classes_\n",
      "print contact_b\n",
      "contact_a = le.transform(le.classes_)\n",
      "print contact_a\n",
      "bank['contact'] = bank['contact'].replace(to_replace = contact_b, value = contact_a)\n",
      "print '_' * 80"
     ],
     "language": "python",
     "metadata": {},
     "outputs": []
    },
    {
     "cell_type": "code",
     "collapsed": false,
     "input": [
      "# for some reason, when i put this in order (from smaller (starting at -3500) to larger) with the other 'balance' replace\n",
      "# the negative numbers weren't recognized. why?\n",
      "bank['balance'] = bank['balance'].replace(to_replace = [range(0,1000)], value = 3)\n",
      "bank['balance'] = bank['balance'].replace(to_replace = [range(1000,2000)], value = 4)\n",
      "bank['balance'] = bank['balance'].replace(to_replace = [range(2000,100000)], value = 5)\n",
      "\n",
      "bank['pdays'] = bank['pdays'].replace(to_replace = [range(-1, 99)], value = 0)"
     ],
     "language": "python",
     "metadata": {},
     "outputs": []
    },
    {
     "cell_type": "code",
     "collapsed": false,
     "input": [
      "# Here I'm replacing values with ranges, then transforming to classes\n",
      "\n",
      "bank['age'] = bank['age'].replace(to_replace = [range(0,29)], value = 0)\n",
      "bank['age'] = bank['age'].replace(to_replace = [range(29,56)], value = 1)\n",
      "bank['age'] = bank['age'].replace(to_replace = [range(56,100)], value = 2)\n",
      "\n",
      "print 'This is \\'age\\' information.'\n",
      "le.fit(bank['age'].unique())\n",
      "print bank['age'].describe()\n",
      "print le.classes_\n",
      "le.transform(le.classes_)\n",
      "print le.transform(le.classes_)\n",
      "print '_' * 80\n",
      "\n",
      "\n",
      "bank['balance'] = bank['balance'].replace(to_replace = [range(-3500,-2000)], value = 0)\n",
      "bank['balance'] = bank['balance'].replace(to_replace = [range(-2000,-1000)], value = 1)\n",
      "bank['balance'] = bank['balance'].replace(to_replace = [range(-1000,0)], value = 2)\n",
      "\n",
      "print 'This is \\'balance\\' information.'\n",
      "le.fit(bank['balance'].unique())\n",
      "print bank['balance'].describe()\n",
      "print le.classes_\n",
      "le.transform(le.classes_)\n",
      "print le.transform(le.classes_)\n",
      "print '_' * 80\n",
      "\n",
      "\n",
      "bank['pdays'] = bank['pdays'].replace(to_replace = [range(99, 199)], value = 1)\n",
      "bank['pdays'] = bank['pdays'].replace(to_replace = [range(199, 299)], value = 2)\n",
      "bank['pdays'] = bank['pdays'].replace(to_replace = [range(299, 399)], value = 3)\n",
      "bank['pdays'] = bank['pdays'].replace(to_replace = [range(399, 499)], value = 4)\n",
      "bank['pdays'] = bank['pdays'].replace(to_replace = [range(499, 599)], value = 5)\n",
      "bank['pdays'] = bank['pdays'].replace(to_replace = [range(599, 699)], value = 6)\n",
      "bank['pdays'] = bank['pdays'].replace(to_replace = [range(699, 799)], value = 7)\n",
      "bank['pdays'] = bank['pdays'].replace(to_replace = [range(799, 899)], value = 8)\n",
      "\n",
      "print 'This is \\'pdays\\' information.'\n",
      "le.fit(bank['pdays'].unique())\n",
      "print bank['pdays'].describe()\n",
      "print le.classes_\n",
      "le.transform(le.classes_)\n",
      "print le.transform(le.classes_)\n",
      "print '_' * 80"
     ],
     "language": "python",
     "metadata": {},
     "outputs": []
    },
    {
     "cell_type": "code",
     "collapsed": false,
     "input": [
      "print bank.dtypes\n",
      "bank.head(10)"
     ],
     "language": "python",
     "metadata": {},
     "outputs": []
    },
    {
     "cell_type": "heading",
     "level": 3,
     "metadata": {},
     "source": [
      "3. Build a decision tree model to predict whether a prospect will buy the product."
     ]
    },
    {
     "cell_type": "code",
     "collapsed": false,
     "input": [
      "# select feature columns (every column except for the 16th column)\n",
      "feature_cols = bank.columns[:15]\n",
      "\n",
      "# define X (features) and y (response)\n",
      "X = bank[feature_cols]\n",
      "y = bank.purchased"
     ],
     "language": "python",
     "metadata": {},
     "outputs": []
    },
    {
     "cell_type": "code",
     "collapsed": false,
     "input": [
      "# fit a classification tree with max_depth=3 on all data\n",
      "from sklearn.tree import DecisionTreeClassifier\n",
      "\n",
      "treeclf = DecisionTreeClassifier(max_depth=5, random_state=1)\n",
      "treeclf.fit(X, y)"
     ],
     "language": "python",
     "metadata": {},
     "outputs": []
    },
    {
     "cell_type": "code",
     "collapsed": false,
     "input": [
      "from sklearn import cross_validation\n",
      "from sklearn.cross_validation import cross_val_score, KFold\n",
      "\n",
      "scores = cross_val_score(treeclf, X, y, cv=3)\n",
      "print scores"
     ],
     "language": "python",
     "metadata": {},
     "outputs": []
    },
    {
     "cell_type": "heading",
     "level": 3,
     "metadata": {},
     "source": [
      "4. Evaluate the accuracy of your decision tree model using cross validation."
     ]
    },
    {
     "cell_type": "code",
     "collapsed": false,
     "input": [
      "# split into train/test\n",
      "from sklearn.cross_validation import train_test_split\n",
      "X_train, X_test, y_train, y_test = train_test_split(X, y, random_state = 1)\n",
      "\n",
      "# print out each of the arrays\n",
      "print X_train\n",
      "print y_train\n",
      "print X_test\n",
      "print y_test"
     ],
     "language": "python",
     "metadata": {},
     "outputs": []
    },
    {
     "cell_type": "code",
     "collapsed": false,
     "input": [
      "# import class, instantiate estimator, fit with training set\n",
      "from sklearn.tree import DecisionTreeRegressor\n",
      "treereg = DecisionTreeRegressor(random_state = 1)\n",
      "treereg.fit(X_train, y_train)\n",
      "\n",
      "\n",
      "# make predictions\n",
      "preds = treeclf.predict(X_test)\n",
      "\n",
      "# to see type\n",
      "print type(preds)\n",
      "\n",
      "print preds\n",
      "print len(preds)\n",
      "print len([x for x in preds if x == 1])\n",
      "\n",
      "jax = float(len(preds))\n",
      "lox = float(len([x for x in preds if x == 1]))\n",
      "\n",
      "(lox/jax) * 100\n",
      "#does that mean there is a 6.9 chance that the person will say yes to buying the loan?"
     ],
     "language": "python",
     "metadata": {},
     "outputs": []
    },
    {
     "cell_type": "code",
     "collapsed": false,
     "input": [
      "pd.DataFrame({'feature':feature_cols, 'importance':treereg.feature_importances_})\n",
      "\n",
      "# Looks like most important features are duration (is that duration of call?), pdays, age, day and balance.\n",
      "# Are these the most important though, because they have the highest numbers? Should they be something binary as well?"
     ],
     "language": "python",
     "metadata": {},
     "outputs": []
    },
    {
     "cell_type": "code",
     "collapsed": false,
     "input": [
      "scores\n",
      "#so what does this mean?"
     ],
     "language": "python",
     "metadata": {},
     "outputs": []
    },
    {
     "cell_type": "heading",
     "level": 5,
     "metadata": {},
     "source": [
      "HOLY CRAP!! Did I just do what I was supposed to do? Still not sure, but atleast I'm getting closer! \n",
      "Please explain all of #4 to me!"
     ]
    },
    {
     "cell_type": "heading",
     "level": 3,
     "metadata": {},
     "source": [
      "5. Repeat the analysis and cross validation with the file bank-additional-full.csv. How does the performance of the model change (with the additional training examples and additional features)?"
     ]
    },
    {
     "cell_type": "code",
     "collapsed": false,
     "input": [
      "bank = pd.read_csv(\"bank-additional-full.csv\",sep =';')\n",
      "bank.head(10)"
     ],
     "language": "python",
     "metadata": {},
     "outputs": []
    },
    {
     "cell_type": "code",
     "collapsed": false,
     "input": [
      "bank.dtypes\n",
      "bank.isnull().sum()\n",
      "# just did the isnull so that I could get a listing of all of the columns. wasn't sure how to get list of just \n",
      "# column names"
     ],
     "language": "python",
     "metadata": {},
     "outputs": []
    },
    {
     "cell_type": "code",
     "collapsed": false,
     "input": [
      "from sklearn.preprocessing import OneHotEncoder\n",
      "enc = OneHotEncoder()\n",
      "enc.fit(bank)  \n",
      "enc.n_values_\n",
      "enc.feature_indices_\n",
      "enc.transform(bank).toarray()\n",
      "bank"
     ],
     "language": "python",
     "metadata": {},
     "outputs": []
    },
    {
     "cell_type": "code",
     "collapsed": false,
     "input": [
      "bank.rename(columns={'y': 'purchased'}, inplace=True)\n",
      "\n",
      "#There wasn't a link on the homework.\n",
      "\n",
      "from sklearn import preprocessing\n",
      "\n",
      "le = preprocessing.LabelEncoder()\n",
      "\n",
      "# This is giving each unique value within each class a int label. \n",
      "# Then I wanted to look at each of the values and get further info\n",
      "\n",
      "print 'This is \\'job\\' information.'\n",
      "le.fit(bank['job'].unique())\n",
      "print bank['job'].describe()\n",
      "job_b = le.classes_\n",
      "print job_b\n",
      "le.transform(le.classes_)\n",
      "job_a = le.transform(le.classes_)\n",
      "bank['job'] = bank['job'].replace(to_replace = job_b, value = job_a)\n",
      "print '_' * 80"
     ],
     "language": "python",
     "metadata": {},
     "outputs": []
    },
    {
     "cell_type": "code",
     "collapsed": false,
     "input": [
      "print 'This is \\'housing\\' information.'\n",
      "le.fit(bank['housing'].unique())\n",
      "print bank['housing'].describe()\n",
      "housing_b = le.classes_\n",
      "print housing_b\n",
      "housing_a = le.transform(le.classes_)\n",
      "print housing_a\n",
      "bank['housing'] = bank['housing'].replace(to_replace = housing_b, value =housing_a)\n",
      "print '_' * 80"
     ],
     "language": "python",
     "metadata": {},
     "outputs": []
    },
    {
     "cell_type": "code",
     "collapsed": false,
     "input": [
      "print 'This is \\'contact\\' information.'\n",
      "le.fit(bank['contact'].unique())\n",
      "print bank['contact'].describe()\n",
      "contact_b = le.classes_\n",
      "print contact_b\n",
      "contact_a = le.transform(le.classes_)\n",
      "print contact_a\n",
      "bank['contact'] = bank['contact'].replace(to_replace = contact_b, value = contact_a)\n",
      "print '_' * 80"
     ],
     "language": "python",
     "metadata": {},
     "outputs": []
    },
    {
     "cell_type": "code",
     "collapsed": false,
     "input": [
      "print 'This is \\'loan\\' information.'\n",
      "le.fit(bank['loan'].unique())\n",
      "print bank['loan'].describe()\n",
      "loan_b = le.classes_\n",
      "print loan_b\n",
      "loan_a = le.transform(le.classes_)\n",
      "print le.transform(le.classes_)\n",
      "bank['loan'] = bank['loan'].replace(to_replace = loan_b, value =loan_a)\n",
      "print '_' * 80"
     ],
     "language": "python",
     "metadata": {},
     "outputs": []
    },
    {
     "cell_type": "code",
     "collapsed": false,
     "input": [
      "print 'This is \\'education\\' information.'\n",
      "le.fit(bank['education'].unique())\n",
      "print bank['education'].describe()\n",
      "education_b = le.classes_\n",
      "print education_b\n",
      "education_a = le.transform(le.classes_)\n",
      "print education_a\n",
      "bank['education'] = bank['education'].replace(to_replace = education_b, value = education_a)\n",
      "print '_' * 80"
     ],
     "language": "python",
     "metadata": {},
     "outputs": []
    },
    {
     "cell_type": "code",
     "collapsed": false,
     "input": [
      "print 'This is \\'marital\\' information.'\n",
      "le.fit(bank['marital'].unique())\n",
      "print bank['marital'].describe()\n",
      "marital_b = le.classes_\n",
      "print marital_b\n",
      "marital_a = le.transform(le.classes_)\n",
      "print marital_a\n",
      "bank['marital'] = bank['marital'].replace(to_replace = marital_b, value = marital_a)\n",
      "print '_' * 80"
     ],
     "language": "python",
     "metadata": {},
     "outputs": []
    },
    {
     "cell_type": "code",
     "collapsed": false,
     "input": [
      "print 'This is \\'campaign\\' information.'\n",
      "le.fit(bank['campaign'].unique())\n",
      "print bank['campaign'].describe()\n",
      "campaign_b = le.classes_\n",
      "print campaign_b\n",
      "campaign_a = le.transform(le.classes_)\n",
      "print campaign_a\n",
      "bank['campaign'] = bank['campaign'].replace(to_replace = campaign_b, value = campaign_a)\n",
      "print '_' * 80"
     ],
     "language": "python",
     "metadata": {},
     "outputs": []
    },
    {
     "cell_type": "code",
     "collapsed": false,
     "input": [
      "print 'This is \\'month\\' information.'\n",
      "le.fit(bank['month'].unique())\n",
      "print bank['month'].describe()\n",
      "month_b = le.classes_\n",
      "print month_b\n",
      "month_a = le.transform(le.classes_)\n",
      "print month_a\n",
      "bank['month'] = bank['month'].replace(to_replace = month_b, value = month_a)\n",
      "print '_' * 80"
     ],
     "language": "python",
     "metadata": {},
     "outputs": []
    },
    {
     "cell_type": "code",
     "collapsed": false,
     "input": [
      "print 'This is \\'previous\\' information.'\n",
      "le.fit(bank['previous'].unique())\n",
      "print bank['previous'].describe()\n",
      "previous_b = le.classes_\n",
      "print previous_b\n",
      "previous_a = le.transform(le.classes_)\n",
      "print previous_a\n",
      "bank['previous'] = bank['previous'].replace(to_replace = previous_b, value = previous_a)\n",
      "print '_' * 80"
     ],
     "language": "python",
     "metadata": {},
     "outputs": []
    },
    {
     "cell_type": "code",
     "collapsed": false,
     "input": [
      "print 'This is \\'day_of_week\\' information.'\n",
      "le.fit(bank['day_of_week'].unique())\n",
      "print bank['day_of_week'].describe()\n",
      "day_of_week_b = le.classes_\n",
      "print day_of_week_b\n",
      "day_of_week_a = le.transform(le.classes_)\n",
      "print day_of_week_a\n",
      "bank['day_of_week'] = bank['day_of_week'].replace(to_replace = day_of_week_b, value = day_of_week_a)\n",
      "print '_' * 80"
     ],
     "language": "python",
     "metadata": {},
     "outputs": []
    },
    {
     "cell_type": "code",
     "collapsed": false,
     "input": [
      "print 'This is \\'poutcome\\' information.'\n",
      "le.fit(bank['poutcome'].unique())\n",
      "print bank['poutcome'].describe()\n",
      "poutcome_b = le.classes_\n",
      "print poutcome_b\n",
      "poutcome_a = le.transform(le.classes_)\n",
      "print poutcome_a\n",
      "bank['poutcome'] = bank['poutcome'].replace(to_replace = poutcome_b, value = poutcome_a)\n",
      "print '_' * 80"
     ],
     "language": "python",
     "metadata": {},
     "outputs": []
    },
    {
     "cell_type": "code",
     "collapsed": false,
     "input": [
      "print 'This is \\'default\\' information.'\n",
      "le.fit(bank['default'].unique())\n",
      "print bank['default'].describe()\n",
      "default_b = le.classes_\n",
      "print default_b\n",
      "default_a = le.transform(le.classes_)\n",
      "print default_a\n",
      "bank['default'] = bank['default'].replace(to_replace = default_b, value = default_a)\n",
      "print '_' * 80"
     ],
     "language": "python",
     "metadata": {},
     "outputs": []
    },
    {
     "cell_type": "code",
     "collapsed": false,
     "input": [
      "print 'This is \\'purchased\\' information.'\n",
      "le.fit(bank['purchased'].unique())\n",
      "print bank['purchased'].describe()\n",
      "purchased_b = le.classes_\n",
      "print purchased_b\n",
      "purchased_a = le.transform(le.classes_)\n",
      "purchased_a\n",
      "bank['purchased'] = bank['purchased'].replace(to_replace = purchased_b, value = purchased_a)\n",
      "print '_' * 80"
     ],
     "language": "python",
     "metadata": {},
     "outputs": []
    },
    {
     "cell_type": "code",
     "collapsed": false,
     "input": [
      "print 'This is \\'emp.var.rate\\' information.'\n",
      "le.fit(bank['emp.var.rate'].unique())\n",
      "print bank['emp.var.rate'].describe()\n",
      "empvarrate_b = le.classes_\n",
      "print empvarrate_b\n",
      "empvarrate_a = le.transform(le.classes_)\n",
      "empvarrate_a\n",
      "bank['emp.var.rate'] = bank['emp.var.rate'].replace(to_replace = empvarrate_b, value = empvarrate_a)\n",
      "print '_' * 80"
     ],
     "language": "python",
     "metadata": {},
     "outputs": []
    },
    {
     "cell_type": "code",
     "collapsed": false,
     "input": [
      "bank.head(10)"
     ],
     "language": "python",
     "metadata": {},
     "outputs": []
    },
    {
     "cell_type": "code",
     "collapsed": false,
     "input": [
      "#unsure how to convert these floats so that they will become the labeled classes.\n",
      "\n",
      "def convert(n):\n",
      "    try:\n",
      "        return int(n)\n",
      "    except ValueError:\n",
      "        return int(n)\n",
      "    \n",
      "        \n",
      "bank['euribor3m'] = bank['euribor3m'].replace(to_replace = [range(0, 1)], value = 0)\n",
      "bank['euribor3m'] = bank['euribor3m'].replace(to_replace = [range(1, 2)], value = 1)\n",
      "bank['euribor3m'] = bank['euribor3m'].replace(to_replace = [range(2, 3)], value = 2)\n",
      "bank['euribor3m'] = bank['euribor3m'].replace(to_replace = [range(3, 4)], value = 3)\n",
      "bank['euribor3m'] = bank['euribor3m'].replace(to_replace = [range(4, 5)], value = 4)\n",
      "bank['euribor3m'] = bank['euribor3m'].replace(to_replace = [range(5, 6)], value = 5)\n",
      "\n",
      "\n",
      "print 'This is \\'euribor3m\\' information.'\n",
      "le.fit(bank['euribor3m'].unique())\n",
      "print bank['euribor3m'].describe()\n",
      "euribor3m_b = le.classes_\n",
      "print euribor3m_b\n",
      "euribor3m_a = le.transform(le.classes_)\n",
      "euribor3m_a\n",
      "bank['euribor3m'] = bank['euribor3m'].replace(to_replace = euribor3m_b, value = euribor3m_a)\n",
      "print '_' * 80\n",
      "\n",
      "bank['euribor3m']   "
     ],
     "language": "python",
     "metadata": {},
     "outputs": []
    },
    {
     "cell_type": "code",
     "collapsed": false,
     "input": [
      "bank['euribor3m'].head(10)"
     ],
     "language": "python",
     "metadata": {},
     "outputs": []
    },
    {
     "cell_type": "code",
     "collapsed": false,
     "input": [
      "print 'This is \\'cons.price.idx\\' information.'\n",
      "le.fit(bank['cons.price.idx'].unique())\n",
      "print bank['cons.price.idx'].describe()\n",
      "conspriceidx_b = le.classes_\n",
      "print conspriceidx_b\n",
      "conspriceidx_a = le.transform(le.classes_)\n",
      "conspriceidx_a\n",
      "bank['cons.price.idx'] = bank['cons.price.idx'].replace(to_replace = conspriceidx_b, value = conspriceidx_a)\n",
      "print '_' * 80"
     ],
     "language": "python",
     "metadata": {},
     "outputs": []
    },
    {
     "cell_type": "code",
     "collapsed": false,
     "input": [
      "print 'This is \\'cons.conf.idx\\' information.'\n",
      "le.fit(bank['cons.conf.idx'].unique())\n",
      "print bank['cons.conf.idx'].describe()\n",
      "consconfidx_b = le.classes_\n",
      "print consconfidx_b\n",
      "consconfidx_a = le.transform(le.classes_)\n",
      "consconfidx_a\n",
      "bank['cons.conf.idx'] = bank['cons.conf.idx'].replace(to_replace = consconfidx_b, value = consconfidx_a)\n",
      "print '_' * 80"
     ],
     "language": "python",
     "metadata": {},
     "outputs": []
    },
    {
     "cell_type": "code",
     "collapsed": false,
     "input": [
      "print 'This is \\'nr.employed\\' information.'\n",
      "le.fit(bank['nr.employed'].unique())\n",
      "print bank['nr.employed'].describe()\n",
      "nremployed_b = le.classes_\n",
      "print nremployed_b\n",
      "nremployed_a = le.transform(le.classes_)\n",
      "nremployed_a\n",
      "bank['nr.employed'] = bank['nr.employed'].replace(to_replace = nremployed_b, value = nremployed_a)\n",
      "print '_' * 80"
     ],
     "language": "python",
     "metadata": {},
     "outputs": []
    },
    {
     "cell_type": "code",
     "collapsed": false,
     "input": [
      "# for some reason, when i put this in order (from smaller (starting at -3500) to larger) with the other 'balance' replace\n",
      "# the negative numbers weren't recognized. why?\n",
      "bank['pdays'] = bank['pdays'].replace(to_replace = [range(-1, 99)], value = 0)"
     ],
     "language": "python",
     "metadata": {},
     "outputs": []
    },
    {
     "cell_type": "code",
     "collapsed": false,
     "input": [
      "# Here I'm replacing values with ranges, then transforming to classes\n",
      "\n",
      "bank['age'] = bank['age'].replace(to_replace = [range(0,29)], value = 0)\n",
      "bank['age'] = bank['age'].replace(to_replace = [range(29,56)], value = 1)\n",
      "bank['age'] = bank['age'].replace(to_replace = [range(56,100)], value = 2)\n",
      "\n",
      "print 'This is \\'age\\' information.'\n",
      "le.fit(bank['age'].unique())\n",
      "print bank['age'].describe()\n",
      "print le.classes_\n",
      "le.transform(le.classes_)\n",
      "print le.transform(le.classes_)\n",
      "print '_' * 80\n",
      "\n",
      "bank['pdays'] = bank['pdays'].replace(to_replace = [range(99, 199)], value = 1)\n",
      "bank['pdays'] = bank['pdays'].replace(to_replace = [range(199, 299)], value = 2)\n",
      "bank['pdays'] = bank['pdays'].replace(to_replace = [range(299, 399)], value = 3)\n",
      "bank['pdays'] = bank['pdays'].replace(to_replace = [range(399, 499)], value = 4)\n",
      "bank['pdays'] = bank['pdays'].replace(to_replace = [range(499, 599)], value = 5)\n",
      "bank['pdays'] = bank['pdays'].replace(to_replace = [range(599, 699)], value = 6)\n",
      "bank['pdays'] = bank['pdays'].replace(to_replace = [range(699, 799)], value = 7)\n",
      "bank['pdays'] = bank['pdays'].replace(to_replace = [range(799, 899)], value = 8)\n",
      "\n",
      "print 'This is \\'pdays\\' information.'\n",
      "le.fit(bank['pdays'].unique())\n",
      "print bank['pdays'].describe()\n",
      "print le.classes_\n",
      "le.transform(le.classes_)\n",
      "print le.transform(le.classes_)\n",
      "print '_' * 80"
     ],
     "language": "python",
     "metadata": {},
     "outputs": []
    },
    {
     "cell_type": "code",
     "collapsed": false,
     "input": [
      "bank.isnull().sum()"
     ],
     "language": "python",
     "metadata": {},
     "outputs": []
    },
    {
     "cell_type": "code",
     "collapsed": false,
     "input": [
      "bank.head(10)"
     ],
     "language": "python",
     "metadata": {},
     "outputs": []
    },
    {
     "cell_type": "code",
     "collapsed": false,
     "input": [
      "# select feature columns (every column except for the 16th column)\n",
      "feature_cols = bank.columns[:20]\n",
      "\n",
      "# define X (features) and y (response)\n",
      "X = bank[feature_cols]\n",
      "y = bank.purchased"
     ],
     "language": "python",
     "metadata": {},
     "outputs": []
    },
    {
     "cell_type": "code",
     "collapsed": false,
     "input": [
      "bank.dtypes"
     ],
     "language": "python",
     "metadata": {},
     "outputs": []
    },
    {
     "cell_type": "code",
     "collapsed": false,
     "input": [
      "# fit a classification tree with max_depth=3 on all data\n",
      "from sklearn.tree import DecisionTreeClassifier\n",
      "\n",
      "treeclf = DecisionTreeClassifier(max_depth=5, random_state=1)\n",
      "treeclf.fit(X, y)"
     ],
     "language": "python",
     "metadata": {},
     "outputs": []
    },
    {
     "cell_type": "code",
     "collapsed": false,
     "input": [
      "from sklearn import cross_validation\n",
      "from sklearn.cross_validation import cross_val_score, KFold\n",
      "\n",
      "scores = cross_val_score(treeclf, X, y, cv=3)\n",
      "print scores"
     ],
     "language": "python",
     "metadata": {},
     "outputs": []
    },
    {
     "cell_type": "code",
     "collapsed": false,
     "input": [
      "# split into train/test\n",
      "from sklearn.cross_validation import train_test_split\n",
      "X_train, X_test, y_train, y_test = train_test_split(X, y, random_state = 1)\n",
      "\n",
      "# print out each of the arrays\n",
      "print X_train\n",
      "print y_train\n",
      "print X_test\n",
      "print y_test"
     ],
     "language": "python",
     "metadata": {},
     "outputs": []
    },
    {
     "cell_type": "code",
     "collapsed": false,
     "input": [
      "# import class, instantiate estimator, fit with training set\n",
      "from sklearn.tree import DecisionTreeRegressor\n",
      "treereg = DecisionTreeRegressor(random_state = 1)\n",
      "treereg.fit(X_train, y_train)\n",
      "\n",
      "\n",
      "# make predictions\n",
      "preds = treeclf.predict(X_test)\n",
      "\n",
      "print preds"
     ],
     "language": "python",
     "metadata": {},
     "outputs": []
    },
    {
     "cell_type": "code",
     "collapsed": false,
     "input": [
      "pd.DataFrame({'feature':feature_cols, 'importance':treereg.feature_importances_})\n",
      "\n",
      "#still looks like maybe I needed to change some other things to booleans?"
     ],
     "language": "python",
     "metadata": {},
     "outputs": []
    },
    {
     "cell_type": "code",
     "collapsed": false,
     "input": [
      "scores"
     ],
     "language": "python",
     "metadata": {},
     "outputs": []
    },
    {
     "cell_type": "code",
     "collapsed": false,
     "input": [],
     "language": "python",
     "metadata": {},
     "outputs": []
    }
   ],
   "metadata": {}
  }
 ]
}