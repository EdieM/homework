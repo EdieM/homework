{
 "metadata": {
  "name": "",
  "signature": "sha256:31260746ba8c16193f013ed345a9908288560697d8b8709f4cbde6352ef1518c"
 },
 "nbformat": 3,
 "nbformat_minor": 0,
 "worksheets": []
}