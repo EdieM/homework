{
 "metadata": {
  "name": "",
<<<<<<< Updated upstream
  "signature": "sha256:a7819ecb4cf72fd8bcde1b3348082fee53d8a1c1782856fe9fc09734d3659e96"
=======
  "signature": "sha256:22be0fcab2f808f8ac23211eb7420ec5514ce1571e980036d8a6275379c821f8"
>>>>>>> Stashed changes
 },
 "nbformat": 3,
 "nbformat_minor": 0,
 "worksheets": [
  {
   "cells": [
    {
     "cell_type": "heading",
     "level": 2,
     "metadata": {},
     "source": [
<<<<<<< Updated upstream
      "Senalka McDonald\n",
      "Homework #2 KNN"
=======
      "Senalka McDonald"
>>>>>>> Stashed changes
     ]
    },
    {
     "cell_type": "code",
     "collapsed": false,
     "input": [
<<<<<<< Updated upstream
=======
      "#All of my questions during this assignment:\n",
      "# How do I decide what libraries to import?"
     ],
     "language": "python",
     "metadata": {},
     "outputs": []
    },
    {
     "cell_type": "code",
     "collapsed": false,
     "input": [
      "# not sure that I need all this, but it seemed like the right thing to do. How do I decide what libraries to import?\n",
      "\n",
>>>>>>> Stashed changes
      "import matplotlib.pyplot as plt\n",
      "%matplotlib inline\n",
      "import numpy as np\n",
      "import pandas as pd\n",
      "import statsmodels.api as sm\n",
      "from statsmodels.nonparametric.kde import KDEUnivariate\n",
      "from statsmodels.nonparametric import smoothers_lowess\n",
      "from pandas import Series, DataFrame\n",
      "from patsy import dmatrices\n",
<<<<<<< Updated upstream
      "from sklearn import datasets, svm\n",
      "\n",
      "from __future__ import division\n",
      "\n",
      "import scipy.stats as stats\n",
      "import seaborn as sns\n",
      "import statsmodels.formula.api as smf\n",
      "from seaborn import plt\n",
      "from sklearn.datasets import load_iris\n",
      "\n",
      "from sklearn import cross_validation\n",
      "\n",
      "from sklearn.cross_validation import cross_val_score\n",
      "\n",
      "# How should I know which libraries to import? I'm just importing these \n",
      "# because its what I did the last time. 2nd set is from lab"
     ],
     "language": "python",
     "metadata": {},
     "outputs": [],
     "prompt_number": 172
    },
    {
     "cell_type": "code",
     "collapsed": false,
     "input": [
      "from matplotlib.colors import ListedColormap\n",
      "from sklearn import neighbors, datasets, feature_selection\n",
      "from sklearn.cross_validation import train_test_split, cross_val_score\n",
      "from sklearn.neighbors import NearestNeighbors"
=======
      "from sklearn import datasets, svm"
>>>>>>> Stashed changes
     ],
     "language": "python",
     "metadata": {},
     "outputs": [],
<<<<<<< Updated upstream
     "prompt_number": 173
=======
     "prompt_number": 4
>>>>>>> Stashed changes
    },
    {
     "cell_type": "heading",
     "level": 3,
     "metadata": {},
     "source": [
<<<<<<< Updated upstream
      "1. Implement KNN classification, using the sklearn package. We learned how to do this in class.\n",
      "See also: http://scikit-learn.org/stable/modules/neighbors.html#nearest-neighbors-classification"
=======
      "1. Implement KNN classification, using the sklearn package. We learned how to do this in class. See also: http://scikit-learn.org/stable/modules/neighbors.html#nearest- neighbors-classification"
>>>>>>> Stashed changes
     ]
    },
    {
     "cell_type": "code",
     "collapsed": false,
<<<<<<< Updated upstream
     "input": [
      "# Load in the data\n",
      "iris = datasets.load_iris()\n",
      "iris_data = pd.DataFrame(iris.data, columns=iris.feature_names)\n",
      "#iris_df.head()\n",
      "#iris_data.describe()\n",
      "iris_data\n"
     ],
     "language": "python",
     "metadata": {},
     "outputs": [
      {
       "html": [
        "<div style=\"max-height:1000px;max-width:1500px;overflow:auto;\">\n",
        "<table border=\"1\" class=\"dataframe\">\n",
        "  <thead>\n",
        "    <tr style=\"text-align: right;\">\n",
        "      <th></th>\n",
        "      <th>sepal length (cm)</th>\n",
        "      <th>sepal width (cm)</th>\n",
        "      <th>petal length (cm)</th>\n",
        "      <th>petal width (cm)</th>\n",
        "    </tr>\n",
        "  </thead>\n",
        "  <tbody>\n",
        "    <tr>\n",
        "      <th>0  </th>\n",
        "      <td> 5.1</td>\n",
        "      <td> 3.5</td>\n",
        "      <td> 1.4</td>\n",
        "      <td> 0.2</td>\n",
        "    </tr>\n",
        "    <tr>\n",
        "      <th>1  </th>\n",
        "      <td> 4.9</td>\n",
        "      <td> 3.0</td>\n",
        "      <td> 1.4</td>\n",
        "      <td> 0.2</td>\n",
        "    </tr>\n",
        "    <tr>\n",
        "      <th>2  </th>\n",
        "      <td> 4.7</td>\n",
        "      <td> 3.2</td>\n",
        "      <td> 1.3</td>\n",
        "      <td> 0.2</td>\n",
        "    </tr>\n",
        "    <tr>\n",
        "      <th>3  </th>\n",
        "      <td> 4.6</td>\n",
        "      <td> 3.1</td>\n",
        "      <td> 1.5</td>\n",
        "      <td> 0.2</td>\n",
        "    </tr>\n",
        "    <tr>\n",
        "      <th>4  </th>\n",
        "      <td> 5.0</td>\n",
        "      <td> 3.6</td>\n",
        "      <td> 1.4</td>\n",
        "      <td> 0.2</td>\n",
        "    </tr>\n",
        "    <tr>\n",
        "      <th>5  </th>\n",
        "      <td> 5.4</td>\n",
        "      <td> 3.9</td>\n",
        "      <td> 1.7</td>\n",
        "      <td> 0.4</td>\n",
        "    </tr>\n",
        "    <tr>\n",
        "      <th>6  </th>\n",
        "      <td> 4.6</td>\n",
        "      <td> 3.4</td>\n",
        "      <td> 1.4</td>\n",
        "      <td> 0.3</td>\n",
        "    </tr>\n",
        "    <tr>\n",
        "      <th>7  </th>\n",
        "      <td> 5.0</td>\n",
        "      <td> 3.4</td>\n",
        "      <td> 1.5</td>\n",
        "      <td> 0.2</td>\n",
        "    </tr>\n",
        "    <tr>\n",
        "      <th>8  </th>\n",
        "      <td> 4.4</td>\n",
        "      <td> 2.9</td>\n",
        "      <td> 1.4</td>\n",
        "      <td> 0.2</td>\n",
        "    </tr>\n",
        "    <tr>\n",
        "      <th>9  </th>\n",
        "      <td> 4.9</td>\n",
        "      <td> 3.1</td>\n",
        "      <td> 1.5</td>\n",
        "      <td> 0.1</td>\n",
        "    </tr>\n",
        "    <tr>\n",
        "      <th>10 </th>\n",
        "      <td> 5.4</td>\n",
        "      <td> 3.7</td>\n",
        "      <td> 1.5</td>\n",
        "      <td> 0.2</td>\n",
        "    </tr>\n",
        "    <tr>\n",
        "      <th>11 </th>\n",
        "      <td> 4.8</td>\n",
        "      <td> 3.4</td>\n",
        "      <td> 1.6</td>\n",
        "      <td> 0.2</td>\n",
        "    </tr>\n",
        "    <tr>\n",
        "      <th>12 </th>\n",
        "      <td> 4.8</td>\n",
        "      <td> 3.0</td>\n",
        "      <td> 1.4</td>\n",
        "      <td> 0.1</td>\n",
        "    </tr>\n",
        "    <tr>\n",
        "      <th>13 </th>\n",
        "      <td> 4.3</td>\n",
        "      <td> 3.0</td>\n",
        "      <td> 1.1</td>\n",
        "      <td> 0.1</td>\n",
        "    </tr>\n",
        "    <tr>\n",
        "      <th>14 </th>\n",
        "      <td> 5.8</td>\n",
        "      <td> 4.0</td>\n",
        "      <td> 1.2</td>\n",
        "      <td> 0.2</td>\n",
        "    </tr>\n",
        "    <tr>\n",
        "      <th>15 </th>\n",
        "      <td> 5.7</td>\n",
        "      <td> 4.4</td>\n",
        "      <td> 1.5</td>\n",
        "      <td> 0.4</td>\n",
        "    </tr>\n",
        "    <tr>\n",
        "      <th>16 </th>\n",
        "      <td> 5.4</td>\n",
        "      <td> 3.9</td>\n",
        "      <td> 1.3</td>\n",
        "      <td> 0.4</td>\n",
        "    </tr>\n",
        "    <tr>\n",
        "      <th>17 </th>\n",
        "      <td> 5.1</td>\n",
        "      <td> 3.5</td>\n",
        "      <td> 1.4</td>\n",
        "      <td> 0.3</td>\n",
        "    </tr>\n",
        "    <tr>\n",
        "      <th>18 </th>\n",
        "      <td> 5.7</td>\n",
        "      <td> 3.8</td>\n",
        "      <td> 1.7</td>\n",
        "      <td> 0.3</td>\n",
        "    </tr>\n",
        "    <tr>\n",
        "      <th>19 </th>\n",
        "      <td> 5.1</td>\n",
        "      <td> 3.8</td>\n",
        "      <td> 1.5</td>\n",
        "      <td> 0.3</td>\n",
        "    </tr>\n",
        "    <tr>\n",
        "      <th>20 </th>\n",
        "      <td> 5.4</td>\n",
        "      <td> 3.4</td>\n",
        "      <td> 1.7</td>\n",
        "      <td> 0.2</td>\n",
        "    </tr>\n",
        "    <tr>\n",
        "      <th>21 </th>\n",
        "      <td> 5.1</td>\n",
        "      <td> 3.7</td>\n",
        "      <td> 1.5</td>\n",
        "      <td> 0.4</td>\n",
        "    </tr>\n",
        "    <tr>\n",
        "      <th>22 </th>\n",
        "      <td> 4.6</td>\n",
        "      <td> 3.6</td>\n",
        "      <td> 1.0</td>\n",
        "      <td> 0.2</td>\n",
        "    </tr>\n",
        "    <tr>\n",
        "      <th>23 </th>\n",
        "      <td> 5.1</td>\n",
        "      <td> 3.3</td>\n",
        "      <td> 1.7</td>\n",
        "      <td> 0.5</td>\n",
        "    </tr>\n",
        "    <tr>\n",
        "      <th>24 </th>\n",
        "      <td> 4.8</td>\n",
        "      <td> 3.4</td>\n",
        "      <td> 1.9</td>\n",
        "      <td> 0.2</td>\n",
        "    </tr>\n",
        "    <tr>\n",
        "      <th>25 </th>\n",
        "      <td> 5.0</td>\n",
        "      <td> 3.0</td>\n",
        "      <td> 1.6</td>\n",
        "      <td> 0.2</td>\n",
        "    </tr>\n",
        "    <tr>\n",
        "      <th>26 </th>\n",
        "      <td> 5.0</td>\n",
        "      <td> 3.4</td>\n",
        "      <td> 1.6</td>\n",
        "      <td> 0.4</td>\n",
        "    </tr>\n",
        "    <tr>\n",
        "      <th>27 </th>\n",
        "      <td> 5.2</td>\n",
        "      <td> 3.5</td>\n",
        "      <td> 1.5</td>\n",
        "      <td> 0.2</td>\n",
        "    </tr>\n",
        "    <tr>\n",
        "      <th>28 </th>\n",
        "      <td> 5.2</td>\n",
        "      <td> 3.4</td>\n",
        "      <td> 1.4</td>\n",
        "      <td> 0.2</td>\n",
        "    </tr>\n",
        "    <tr>\n",
        "      <th>29 </th>\n",
        "      <td> 4.7</td>\n",
        "      <td> 3.2</td>\n",
        "      <td> 1.6</td>\n",
        "      <td> 0.2</td>\n",
        "    </tr>\n",
        "    <tr>\n",
        "      <th>...</th>\n",
        "      <td>...</td>\n",
        "      <td>...</td>\n",
        "      <td>...</td>\n",
        "      <td>...</td>\n",
        "    </tr>\n",
        "    <tr>\n",
        "      <th>120</th>\n",
        "      <td> 6.9</td>\n",
        "      <td> 3.2</td>\n",
        "      <td> 5.7</td>\n",
        "      <td> 2.3</td>\n",
        "    </tr>\n",
        "    <tr>\n",
        "      <th>121</th>\n",
        "      <td> 5.6</td>\n",
        "      <td> 2.8</td>\n",
        "      <td> 4.9</td>\n",
        "      <td> 2.0</td>\n",
        "    </tr>\n",
        "    <tr>\n",
        "      <th>122</th>\n",
        "      <td> 7.7</td>\n",
        "      <td> 2.8</td>\n",
        "      <td> 6.7</td>\n",
        "      <td> 2.0</td>\n",
        "    </tr>\n",
        "    <tr>\n",
        "      <th>123</th>\n",
        "      <td> 6.3</td>\n",
        "      <td> 2.7</td>\n",
        "      <td> 4.9</td>\n",
        "      <td> 1.8</td>\n",
        "    </tr>\n",
        "    <tr>\n",
        "      <th>124</th>\n",
        "      <td> 6.7</td>\n",
        "      <td> 3.3</td>\n",
        "      <td> 5.7</td>\n",
        "      <td> 2.1</td>\n",
        "    </tr>\n",
        "    <tr>\n",
        "      <th>125</th>\n",
        "      <td> 7.2</td>\n",
        "      <td> 3.2</td>\n",
        "      <td> 6.0</td>\n",
        "      <td> 1.8</td>\n",
        "    </tr>\n",
        "    <tr>\n",
        "      <th>126</th>\n",
        "      <td> 6.2</td>\n",
        "      <td> 2.8</td>\n",
        "      <td> 4.8</td>\n",
        "      <td> 1.8</td>\n",
        "    </tr>\n",
        "    <tr>\n",
        "      <th>127</th>\n",
        "      <td> 6.1</td>\n",
        "      <td> 3.0</td>\n",
        "      <td> 4.9</td>\n",
        "      <td> 1.8</td>\n",
        "    </tr>\n",
        "    <tr>\n",
        "      <th>128</th>\n",
        "      <td> 6.4</td>\n",
        "      <td> 2.8</td>\n",
        "      <td> 5.6</td>\n",
        "      <td> 2.1</td>\n",
        "    </tr>\n",
        "    <tr>\n",
        "      <th>129</th>\n",
        "      <td> 7.2</td>\n",
        "      <td> 3.0</td>\n",
        "      <td> 5.8</td>\n",
        "      <td> 1.6</td>\n",
        "    </tr>\n",
        "    <tr>\n",
        "      <th>130</th>\n",
        "      <td> 7.4</td>\n",
        "      <td> 2.8</td>\n",
        "      <td> 6.1</td>\n",
        "      <td> 1.9</td>\n",
        "    </tr>\n",
        "    <tr>\n",
        "      <th>131</th>\n",
        "      <td> 7.9</td>\n",
        "      <td> 3.8</td>\n",
        "      <td> 6.4</td>\n",
        "      <td> 2.0</td>\n",
        "    </tr>\n",
        "    <tr>\n",
        "      <th>132</th>\n",
        "      <td> 6.4</td>\n",
        "      <td> 2.8</td>\n",
        "      <td> 5.6</td>\n",
        "      <td> 2.2</td>\n",
        "    </tr>\n",
        "    <tr>\n",
        "      <th>133</th>\n",
        "      <td> 6.3</td>\n",
        "      <td> 2.8</td>\n",
        "      <td> 5.1</td>\n",
        "      <td> 1.5</td>\n",
        "    </tr>\n",
        "    <tr>\n",
        "      <th>134</th>\n",
        "      <td> 6.1</td>\n",
        "      <td> 2.6</td>\n",
        "      <td> 5.6</td>\n",
        "      <td> 1.4</td>\n",
        "    </tr>\n",
        "    <tr>\n",
        "      <th>135</th>\n",
        "      <td> 7.7</td>\n",
        "      <td> 3.0</td>\n",
        "      <td> 6.1</td>\n",
        "      <td> 2.3</td>\n",
        "    </tr>\n",
        "    <tr>\n",
        "      <th>136</th>\n",
        "      <td> 6.3</td>\n",
        "      <td> 3.4</td>\n",
        "      <td> 5.6</td>\n",
        "      <td> 2.4</td>\n",
        "    </tr>\n",
        "    <tr>\n",
        "      <th>137</th>\n",
        "      <td> 6.4</td>\n",
        "      <td> 3.1</td>\n",
        "      <td> 5.5</td>\n",
        "      <td> 1.8</td>\n",
        "    </tr>\n",
        "    <tr>\n",
        "      <th>138</th>\n",
        "      <td> 6.0</td>\n",
        "      <td> 3.0</td>\n",
        "      <td> 4.8</td>\n",
        "      <td> 1.8</td>\n",
        "    </tr>\n",
        "    <tr>\n",
        "      <th>139</th>\n",
        "      <td> 6.9</td>\n",
        "      <td> 3.1</td>\n",
        "      <td> 5.4</td>\n",
        "      <td> 2.1</td>\n",
        "    </tr>\n",
        "    <tr>\n",
        "      <th>140</th>\n",
        "      <td> 6.7</td>\n",
        "      <td> 3.1</td>\n",
        "      <td> 5.6</td>\n",
        "      <td> 2.4</td>\n",
        "    </tr>\n",
        "    <tr>\n",
        "      <th>141</th>\n",
        "      <td> 6.9</td>\n",
        "      <td> 3.1</td>\n",
        "      <td> 5.1</td>\n",
        "      <td> 2.3</td>\n",
        "    </tr>\n",
        "    <tr>\n",
        "      <th>142</th>\n",
        "      <td> 5.8</td>\n",
        "      <td> 2.7</td>\n",
        "      <td> 5.1</td>\n",
        "      <td> 1.9</td>\n",
        "    </tr>\n",
        "    <tr>\n",
        "      <th>143</th>\n",
        "      <td> 6.8</td>\n",
        "      <td> 3.2</td>\n",
        "      <td> 5.9</td>\n",
        "      <td> 2.3</td>\n",
        "    </tr>\n",
        "    <tr>\n",
        "      <th>144</th>\n",
        "      <td> 6.7</td>\n",
        "      <td> 3.3</td>\n",
        "      <td> 5.7</td>\n",
        "      <td> 2.5</td>\n",
        "    </tr>\n",
        "    <tr>\n",
        "      <th>145</th>\n",
        "      <td> 6.7</td>\n",
        "      <td> 3.0</td>\n",
        "      <td> 5.2</td>\n",
        "      <td> 2.3</td>\n",
        "    </tr>\n",
        "    <tr>\n",
        "      <th>146</th>\n",
        "      <td> 6.3</td>\n",
        "      <td> 2.5</td>\n",
        "      <td> 5.0</td>\n",
        "      <td> 1.9</td>\n",
        "    </tr>\n",
        "    <tr>\n",
        "      <th>147</th>\n",
        "      <td> 6.5</td>\n",
        "      <td> 3.0</td>\n",
        "      <td> 5.2</td>\n",
        "      <td> 2.0</td>\n",
        "    </tr>\n",
        "    <tr>\n",
        "      <th>148</th>\n",
        "      <td> 6.2</td>\n",
        "      <td> 3.4</td>\n",
        "      <td> 5.4</td>\n",
        "      <td> 2.3</td>\n",
        "    </tr>\n",
        "    <tr>\n",
        "      <th>149</th>\n",
        "      <td> 5.9</td>\n",
        "      <td> 3.0</td>\n",
        "      <td> 5.1</td>\n",
        "      <td> 1.8</td>\n",
        "    </tr>\n",
        "  </tbody>\n",
        "</table>\n",
        "<p>150 rows \u00d7 4 columns</p>\n",
        "</div>"
       ],
       "metadata": {},
       "output_type": "pyout",
       "prompt_number": 183,
       "text": [
        "     sepal length (cm)  sepal width (cm)  petal length (cm)  petal width (cm)\n",
        "0                  5.1               3.5                1.4               0.2\n",
        "1                  4.9               3.0                1.4               0.2\n",
        "2                  4.7               3.2                1.3               0.2\n",
        "3                  4.6               3.1                1.5               0.2\n",
        "4                  5.0               3.6                1.4               0.2\n",
        "5                  5.4               3.9                1.7               0.4\n",
        "6                  4.6               3.4                1.4               0.3\n",
        "7                  5.0               3.4                1.5               0.2\n",
        "8                  4.4               2.9                1.4               0.2\n",
        "9                  4.9               3.1                1.5               0.1\n",
        "10                 5.4               3.7                1.5               0.2\n",
        "11                 4.8               3.4                1.6               0.2\n",
        "12                 4.8               3.0                1.4               0.1\n",
        "13                 4.3               3.0                1.1               0.1\n",
        "14                 5.8               4.0                1.2               0.2\n",
        "15                 5.7               4.4                1.5               0.4\n",
        "16                 5.4               3.9                1.3               0.4\n",
        "17                 5.1               3.5                1.4               0.3\n",
        "18                 5.7               3.8                1.7               0.3\n",
        "19                 5.1               3.8                1.5               0.3\n",
        "20                 5.4               3.4                1.7               0.2\n",
        "21                 5.1               3.7                1.5               0.4\n",
        "22                 4.6               3.6                1.0               0.2\n",
        "23                 5.1               3.3                1.7               0.5\n",
        "24                 4.8               3.4                1.9               0.2\n",
        "25                 5.0               3.0                1.6               0.2\n",
        "26                 5.0               3.4                1.6               0.4\n",
        "27                 5.2               3.5                1.5               0.2\n",
        "28                 5.2               3.4                1.4               0.2\n",
        "29                 4.7               3.2                1.6               0.2\n",
        "..                 ...               ...                ...               ...\n",
        "120                6.9               3.2                5.7               2.3\n",
        "121                5.6               2.8                4.9               2.0\n",
        "122                7.7               2.8                6.7               2.0\n",
        "123                6.3               2.7                4.9               1.8\n",
        "124                6.7               3.3                5.7               2.1\n",
        "125                7.2               3.2                6.0               1.8\n",
        "126                6.2               2.8                4.8               1.8\n",
        "127                6.1               3.0                4.9               1.8\n",
        "128                6.4               2.8                5.6               2.1\n",
        "129                7.2               3.0                5.8               1.6\n",
        "130                7.4               2.8                6.1               1.9\n",
        "131                7.9               3.8                6.4               2.0\n",
        "132                6.4               2.8                5.6               2.2\n",
        "133                6.3               2.8                5.1               1.5\n",
        "134                6.1               2.6                5.6               1.4\n",
        "135                7.7               3.0                6.1               2.3\n",
        "136                6.3               3.4                5.6               2.4\n",
        "137                6.4               3.1                5.5               1.8\n",
        "138                6.0               3.0                4.8               1.8\n",
        "139                6.9               3.1                5.4               2.1\n",
        "140                6.7               3.1                5.6               2.4\n",
        "141                6.9               3.1                5.1               2.3\n",
        "142                5.8               2.7                5.1               1.9\n",
        "143                6.8               3.2                5.9               2.3\n",
        "144                6.7               3.3                5.7               2.5\n",
        "145                6.7               3.0                5.2               2.3\n",
        "146                6.3               2.5                5.0               1.9\n",
        "147                6.5               3.0                5.2               2.0\n",
        "148                6.2               3.4                5.4               2.3\n",
        "149                5.9               3.0                5.1               1.8\n",
        "\n",
        "[150 rows x 4 columns]"
       ]
      }
     ],
     "prompt_number": 183
    },
    {
     "cell_type": "code",
     "collapsed": false,
     "input": [
      "from sklearn.neighbors import Nearest Neighbors\n",
      "\n",
      "X = np.aray"
     ],
=======
     "input": [],
>>>>>>> Stashed changes
     "language": "python",
     "metadata": {},
     "outputs": []
    },
    {
<<<<<<< Updated upstream
     "cell_type": "code",
     "collapsed": false,
     "input": [
      "fig, axes = plt.subplots(nrows=2, ncols=3)\n",
      "iris_data['Target'] = iris.target \n",
      "\n",
      "colors = ['r', 'y', 'b']\n",
      "for i in range(3):\n",
      "    skp = iris_data[iris_data.Target == i]\n",
      "    skp.plot(x=0, y=1, kind='scatter', c=colors[i], ax=axes[0,0])\n",
      "\n",
      "for i in range(3):\n",
      "    skp = iris_data[iris_data.Target == i]\n",
      "    skp.plot(x=0, y=2, kind='scatter', c=colors[i], ax=axes[0,1])\n",
      "    \n",
      "for i in range(3):\n",
      "    skp = iris_data[iris_data.Target == i]\n",
      "    skp.plot(x=0, y=3, kind='scatter', c=colors[i], ax=axes[0,2])\n",
      "\n",
      "for i in range(3):\n",
      "    skp = iris_data[iris_data.Target == i]\n",
      "    skp.plot(x=1, y=1, kind='scatter', c=colors[i], ax=axes[1,0])\n",
      "    \n",
      "for i in range(3):\n",
      "    skp = iris_data[iris_data.Target == i]\n",
      "    skp.plot(x=1, y=2, kind='scatter', c=colors[i], ax=axes[1,1])\n",
      "\n",
      "for i in range(3):\n",
      "    skp = iris_data[iris_data.Target == i]\n",
      "    skp.plot(x=1, y=3, kind='scatter', c=colors[i], ax=axes[1,2])"
     ],
     "language": "python",
     "metadata": {},
     "outputs": [
      {
       "metadata": {},
       "output_type": "display_data",
       "png": "iVBORw0KGgoAAAANSUhEUgAAAYcAAAERCAYAAACQIWsgAAAABHNCSVQICAgIfAhkiAAAAAlwSFlz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\nTkSuQmCC\n",
       "text": [
        "<matplotlib.figure.Figure at 0x10dddcd10>"
       ]
      }
     ],
     "prompt_number": 175
    },
    {
     "cell_type": "heading",
     "level": 4,
     "metadata": {},
     "source": [
      "Parameter Search"
     ]
    },
    {
     "cell_type": "code",
     "collapsed": false,
     "input": [
      "# Create the training (and test) set using scikit-learn's train_test_split function\n",
      "X_train, X_test, y_train, y_test = train_test_split(iris.data, iris.target, test_size=0.4, random_state=0)"
     ],
     "language": "python",
     "metadata": {},
     "outputs": [],
     "prompt_number": 176
    },
    {
     "cell_type": "code",
     "collapsed": false,
     "input": [
      "# Loop through each neighbors value from 1 to 51 and append\n",
      "# the scores\n",
      "scores = []\n",
      "for n in n_neighbors:\n",
      "    clf = neighbors.KNeighborsClassifier(n)\n",
      "    clf.fit(X_train, y_train)\n",
      "    scores.append(clf.score(X_test, y_test))\n",
      "    \n",
      "plt.plot(n_neighbors, scores, linewidth=7.0)"
     ],
     "language": "python",
     "metadata": {},
     "outputs": [
      {
       "metadata": {},
       "output_type": "pyout",
       "prompt_number": 177,
       "text": [
        "[<matplotlib.lines.Line2D at 0x10d5fc250>]"
       ]
      },
      {
       "metadata": {},
       "output_type": "display_data",
       "png": "iVBORw0KGgoAAAANSUhEUgAAAXwAAAECCAYAAAD9z2x7AAAABHNCSVQICAgIfAhkiAAAAAlwSFlz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\n",
       "text": [
        "<matplotlib.figure.Figure at 0x10dd2ddd0>"
       ]
      }
     ],
     "prompt_number": 177
    },
    {
=======
>>>>>>> Stashed changes
     "cell_type": "heading",
     "level": 3,
     "metadata": {},
     "source": [
<<<<<<< Updated upstream
      "\ufffc\n",
      "2. Use the sklearn package to implement cross-validation for your classifier. Use 5 folds for your cross-validation.\n",
=======
      "2. Use the sklearn package to implement cross-validation for your classifier. Use 5 folds for your cross-validation.\n",
      "\n",
>>>>>>> Stashed changes
      "See also: http://scikit-learn.org/stable/modules/cross_validation.html#"
     ]
    },
    {
     "cell_type": "code",
     "collapsed": false,
<<<<<<< Updated upstream
     "input": [
      "from sklearn.cross_validation import KFold"
     ],
     "language": "python",
     "metadata": {},
     "outputs": [],
     "prompt_number": 186
    },
    {
     "cell_type": "code",
     "collapsed": false,
     "input": [
      "kf = KFold(5, n_folds = 5)\n",
      "for train, test in kf:\n",
      "    print(\"%s %s\" % (train, test))"
     ],
     "language": "python",
     "metadata": {},
     "outputs": [
      {
       "output_type": "stream",
       "stream": "stdout",
       "text": [
        "[1 2 3 4] [0]\n",
        "[0 2 3 4] [1]\n",
        "[0 1 3 4] [2]\n",
        "[0 1 2 4] [3]\n",
        "[0 1 2 3] [4]\n"
       ]
      }
     ],
     "prompt_number": 199
    },
    {
     "cell_type": "code",
     "collapsed": false,
     "input": [
      "clf = neighbors.KNeighborsClassifier(11, weights = 'uniform')\n",
      "clf.fit(iris.data[:, 2:4], iris.target)\n",
      "scores = cross_val_score(clf,iris_data.values, iris.target, cv=5)\n",
      "\n",
      "print scores\n",
      "print scores.mean()"
     ],
     "language": "python",
     "metadata": {},
     "outputs": [
      {
       "output_type": "stream",
       "stream": "stdout",
       "text": [
        "[ 0.93333333  1.          1.          0.96666667  1.        ]\n",
        "0.98\n"
       ]
      }
     ],
     "prompt_number": 203
    },
    {
     "cell_type": "code",
     "collapsed": false,
     "input": [
      "X_train, X_test, y_train, y_test = cross_validation.train_test_split(\n",
      "    iris.data, iris.target, test_size=.4, random_state=0)\n",
      "\n",
      "#X_train.shape, y_train.shape\n",
      "#((90, 4), (90, ))\n",
      "#X_test.shape, y_test.shape\n",
      "#((60, 4), (60, ))\n",
      "\n",
      "\n",
      "clf = svm.SVC(kernel='linear', C=1).fit(X_train, y_train)\n",
      "clf.score(X_test, y_test)\n"
     ],
     "language": "python",
     "metadata": {},
     "outputs": [
      {
       "metadata": {},
       "output_type": "pyout",
       "prompt_number": 204,
       "text": [
        "0.96666666666666667"
       ]
      }
     ],
     "prompt_number": 204
    },
    {
     "cell_type": "code",
     "collapsed": false,
     "input": [
      "clf = svm.SVC(kernel = 'linear', C=1)\n",
      "scores = cross_validation.cross_val_score(clf, iris.data, \n",
      "                                          iris.target, cv=5)\n",
      "print scores\n",
      "print scores.mean()"
     ],
     "language": "python",
     "metadata": {},
     "outputs": [
      {
       "output_type": "stream",
       "stream": "stdout",
       "text": [
        "[ 0.96666667  1.          0.96666667  0.96666667  1.        ]\n",
        "0.98\n"
       ]
      }
     ],
     "prompt_number": 205
=======
     "input": [],
     "language": "python",
     "metadata": {},
     "outputs": []
>>>>>>> Stashed changes
    },
    {
     "cell_type": "heading",
     "level": 3,
     "metadata": {},
     "source": [
<<<<<<< Updated upstream
      "3. Use your KNN classifier and cross-validation code from (1) and (2) above to determine the optimal value of K (number of nearest neighbors to consult) for this Iris dataset. Hint: This hyperparameter will be a number between 1 and 150 J\uf04a."
=======
      "3. Use your KNN classifier and cross-validation code from (1) and (2) above to determine the optimal value of K (number of nearest neighbors to consult) for this Iris dataset. Hint: This hyperparameter will be a number between 1 and 150 :)."
>>>>>>> Stashed changes
     ]
    },
    {
     "cell_type": "code",
     "collapsed": false,
<<<<<<< Updated upstream
     "input": [
      "target?"
     ],
     "language": "python",
     "metadata": {},
     "outputs": [
      {
       "output_type": "stream",
       "stream": "stdout",
       "text": [
        "Object `target` not found.\n"
       ]
      }
     ],
     "prompt_number": 85
    },
    {
     "cell_type": "code",
     "collapsed": false,
=======
>>>>>>> Stashed changes
     "input": [],
     "language": "python",
     "metadata": {},
     "outputs": [],
<<<<<<< Updated upstream
     "prompt_number": 74
=======
     "prompt_number": 0
>>>>>>> Stashed changes
    },
    {
     "cell_type": "heading",
     "level": 3,
     "metadata": {},
     "source": [
<<<<<<< Updated upstream
      "\n",
=======
>>>>>>> Stashed changes
      "4. Using matplotlib, plot classifier accuracy versus the hyperparameter K for a range of K that you consider interesting. Explain in words what you are seeing."
     ]
    },
    {
     "cell_type": "code",
     "collapsed": false,
     "input": [],
     "language": "python",
     "metadata": {},
<<<<<<< Updated upstream
     "outputs": []
=======
     "outputs": [],
     "prompt_number": 1
>>>>>>> Stashed changes
    },
    {
     "cell_type": "heading",
     "level": 3,
     "metadata": {},
     "source": [
      "5. Now, write your own implementation of cross-validation in Python without using the cross-validation methods from sklearn. Cross validation is a very important concept. Implementing it yourself in Python is the best way to learn and understand it. Compare the results of your cross-validation code with your results using the cross-validation in sklearn."
     ]
    },
    {
     "cell_type": "code",
     "collapsed": false,
     "input": [],
     "language": "python",
     "metadata": {},
<<<<<<< Updated upstream
     "outputs": []
=======
     "outputs": [],
     "prompt_number": 1
>>>>>>> Stashed changes
    },
    {
     "cell_type": "heading",
     "level": 3,
     "metadata": {},
     "source": [
      "6. EXTRA CREDIT 1: Using the value of K obtained in (3) above, vary the number of folds used for cross-validation across an interesting range, e.g. [ 2, 3, 5, 6, 10, 15]. How does classifier accuracy vary with the number of folds used? Do you think there exists an optimal number of folds to use for this particular problem? Why or why not?"
     ]
    },
    {
     "cell_type": "code",
     "collapsed": false,
     "input": [],
     "language": "python",
     "metadata": {},
<<<<<<< Updated upstream
     "outputs": []
=======
     "outputs": [],
     "prompt_number": 2
>>>>>>> Stashed changes
    },
    {
     "cell_type": "heading",
     "level": 3,
     "metadata": {},
     "source": [
<<<<<<< Updated upstream
=======
      "\ufffc\n",
>>>>>>> Stashed changes
      "7. EXTRA CREDIT 2: Write your own implementation of KNN classification in Python, without using the methods from sklearn. Compare your results with the results you obtained using sklearn."
     ]
    },
    {
     "cell_type": "code",
     "collapsed": false,
     "input": [],
     "language": "python",
     "metadata": {},
<<<<<<< Updated upstream
     "outputs": [],
     "prompt_number": 0
    },
    {
     "cell_type": "code",
     "collapsed": false,
     "input": [],
     "language": "python",
     "metadata": {},
     "outputs": [],
     "prompt_number": 0
    },
    {
     "cell_type": "code",
     "collapsed": false,
     "input": [],
     "language": "python",
     "metadata": {},
     "outputs": [],
     "prompt_number": 0
    },
    {
     "cell_type": "code",
     "collapsed": false,
     "input": [],
     "language": "python",
     "metadata": {},
=======
>>>>>>> Stashed changes
     "outputs": []
    }
   ],
   "metadata": {}
  }
 ]
}